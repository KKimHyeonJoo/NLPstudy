{
  "cells": [
    {
      "cell_type": "markdown",
      "metadata": {
        "id": "nHfGVfbWNjeP"
      },
      "source": [
        "# [자연어처리]\n",
        "# 4주차(4-1). BOW 기반의 문서 분류(2)\n"
      ]
    },
    {
      "cell_type": "markdown",
      "source": [
        "# 202002961 김현주"
      ],
      "metadata": {
        "id": "PIFXgbQbODsk"
      }
    },
    {
      "cell_type": "markdown",
      "source": [
        "# 이제 Colab 사용에 모든 수강생분들이 실행에는 어느정도 익숙해 졌을 거라 생각됩니다!\n",
        "* (벌써 4주차 입니다. 시간 빠르죠?)\n",
        "* **키보드**(+마우스)를 조금 더 사용해보도록 하겠습니다.\n",
        "> ## 중간 중간 **'### ... 이 부분을 완성하시오'** 라는 부분의 코드를 완성해 보기 바랍니다. (강의 자료를 참고하여 '???' 부분을 작성해 보시기 바랍니다.)\n",
        "\n",
        "\n",
        "\n"
      ],
      "metadata": {
        "id": "YRzfXnBSOF-1"
      }
    },
    {
      "cell_type": "markdown",
      "metadata": {
        "id": "CBbDC3bnNjeR"
      },
      "source": [
        "## 3-2. 실습 리뷰 시작\n",
        "## 20 뉴스그룹 데이터 준비 및 특성 추출\n",
        "\n",
        " http://scikit-learn.org/0.19/datasets/twenty_newsgroups.html"
      ]
    },
    {
      "cell_type": "code",
      "execution_count": 1,
      "metadata": {
        "id": "gv5QjuQINjeR",
        "colab": {
          "base_uri": "https://localhost:8080/"
        },
        "outputId": "8dc2aa29-0bf3-4463-bd46-0087e0c42b4e"
      },
      "outputs": [
        {
          "output_type": "stream",
          "name": "stdout",
          "text": [
            "#Train set size: 2034\n",
            "#Test set size: 1353\n",
            "#Selected categories: ['alt.atheism', 'comp.graphics', 'sci.space', 'talk.religion.misc']\n",
            "#Train labels: {0, 1, 2, 3}\n"
          ]
        }
      ],
      "source": [
        "from sklearn.datasets import fetch_20newsgroups\n",
        "\n",
        "# 20개의 토픽 중 선택하고자 하는 토픽을 리스트로 생성\n",
        "categories = ['alt.atheism', 'talk.religion.misc', 'comp.graphics', 'sci.space']\n",
        "\n",
        "# 학습 데이터셋을 가져옴\n",
        "# 메일 내용에서 hint가 되는 부분을 삭제 - 순수하게 내용만으로 분류\n",
        "newsgroups_train = fetch_20newsgroups(subset='train',\n",
        "                                      remove=('headers', 'footers', 'quotes'),\n",
        "                                      categories=categories)\n",
        "# 테스트 데이터셋을 가져옴\n",
        "newsgroups_test = fetch_20newsgroups(subset='test',\n",
        "                                     remove=('headers', 'footers', 'quotes'),\n",
        "                                     categories=categories)\n",
        "\n",
        "print('#Train set size:', len(newsgroups_train.data))\n",
        "print('#Test set size:', len(newsgroups_test.data))\n",
        "print('#Selected categories:', newsgroups_train.target_names)\n",
        "print('#Train labels:', set(newsgroups_train.target))"
      ]
    },
    {
      "cell_type": "code",
      "execution_count": 2,
      "metadata": {
        "id": "EzgV07RRNjeT"
      },
      "outputs": [],
      "source": [
        "X_train = newsgroups_train.data   # 학습 데이터셋 문서\n",
        "y_train = newsgroups_train.target # 학습 데이터셋 레이블\n",
        "\n",
        "X_test = newsgroups_test.data     # 테스트 데이터셋 문서\n",
        "y_test = newsgroups_test.target   # 테스트 데이터셋 레이블"
      ]
    },
    {
      "cell_type": "code",
      "execution_count": 3,
      "metadata": {
        "id": "9XAX4K7dNjeV"
      },
      "outputs": [],
      "source": [
        "from sklearn.feature_extraction.text import TfidfVectorizer\n",
        "\n",
        "# TF-IDF 방식 / feature의 개수는 2000개를 사용\n",
        "tfidf = TfidfVectorizer(max_features=2000, min_df=5, max_df=0.5)\n",
        "\n",
        "# train set을 변환\n",
        "X_train_tfidf = tfidf.fit_transform(X_train)\n",
        "# test set을 변환\n",
        "X_test_tfidf = tfidf.transform(X_test)"
      ]
    },
    {
      "cell_type": "code",
      "source": [
        "# sklearn이 제공하는 MultinomialNB 를 사용\n",
        "from sklearn.naive_bayes import MultinomialNB\n",
        "\n",
        "# 분류기 선언\n",
        "NB_clf = MultinomialNB()\n",
        "# tfidf train set을 이용하여 분류기(classifier)를 새로 학습\n",
        "NB_clf.fit(X_train_tfidf, y_train)\n",
        "\n",
        "print('Train set score: {:.3f}'.format(NB_clf.score(X_train_tfidf, y_train))) # train set에 대한 예측정확도를 확인\n",
        "print('Test set score: {:.3f}'.format(NB_clf.score(X_test_tfidf, y_test))) # test set에 대한 예측정확도를 확인"
      ],
      "metadata": {
        "id": "NYsj14zqP4um",
        "colab": {
          "base_uri": "https://localhost:8080/"
        },
        "outputId": "b9208520-5d12-41ac-d5ff-b7689ceeefd8"
      },
      "execution_count": 4,
      "outputs": [
        {
          "output_type": "stream",
          "name": "stdout",
          "text": [
            "Train set score: 0.862\n",
            "Test set score: 0.741\n"
          ]
        }
      ]
    },
    {
      "cell_type": "markdown",
      "source": [
        "# 3-2. 실습 리뷰 끝\n",
        "---\n",
        "# 4-1. 수업 내용 시작\n",
        "\n"
      ],
      "metadata": {
        "id": "yt_CkwWWQYAS"
      }
    },
    {
      "cell_type": "markdown",
      "metadata": {
        "id": "AwQLvHnJNjeV"
      },
      "source": [
        "## 4. 로지스틱 회귀분석을 이용한 문서 분류\n",
        "\n",
        "1: http://scikit-learn.org/stable/modules/generated/sklearn.linear_model.LogisticRegression.html"
      ]
    },
    {
      "cell_type": "code",
      "execution_count": 5,
      "metadata": {
        "id": "AQYKJLDpNjeV",
        "colab": {
          "base_uri": "https://localhost:8080/"
        },
        "outputId": "be92be6a-69ca-43a2-8427-2b1dc50c5a0e"
      },
      "outputs": [
        {
          "output_type": "stream",
          "name": "stdout",
          "text": [
            "Train set score: 0.929\n",
            "Test set score: 0.735\n"
          ]
        }
      ],
      "source": [
        "# sklearn이 제공하는 LogisticRegression을 사용\n",
        "from sklearn.linear_model import LogisticRegression\n",
        "\n",
        "# count vector에 대해 regression을 해서 NB와 비교\n",
        "LR_clf = LogisticRegression() # 분류기 선언\n",
        "LR_clf.fit(X_train_tfidf, y_train) # train data를 이용하여 분류기를 학습\n",
        "\n",
        "print('Train set score: {:.3f}'.format(LR_clf.score(X_train_tfidf, y_train))) # train data에 대한 예측정확도\n",
        "print('Test set score: {:.3f}'.format(LR_clf.score(X_test_tfidf, y_test))) # test data에 대한 예측정확도"
      ]
    },
    {
      "cell_type": "code",
      "source": [
        "LR_clf.coef_ # 계수 확인"
      ],
      "metadata": {
        "id": "UjJmcZN1xYBi",
        "colab": {
          "base_uri": "https://localhost:8080/"
        },
        "outputId": "cc9584af-13ba-46a1-ee27-1705ad7c7ab5"
      },
      "execution_count": 6,
      "outputs": [
        {
          "output_type": "execute_result",
          "data": {
            "text/plain": [
              "array([[-0.29017615,  0.1789959 , -0.19273631, ..., -0.40956462,\n",
              "        -0.08686455, -0.11764324],\n",
              "       [ 0.42032388, -0.15751563,  0.52745772, ..., -0.13140309,\n",
              "        -0.05589633,  0.27076447],\n",
              "       [ 0.10923797,  0.10729818, -0.17887524, ..., -0.2709849 ,\n",
              "         0.10903719, -0.06967447],\n",
              "       [-0.2393857 , -0.12877846, -0.15584617, ...,  0.81195261,\n",
              "         0.03372369, -0.08344677]])"
            ]
          },
          "metadata": {},
          "execution_count": 6
        }
      ]
    },
    {
      "cell_type": "code",
      "source": [
        "len(-LR_clf.coef_[0])"
      ],
      "metadata": {
        "id": "fR_zw4KjT6c4",
        "colab": {
          "base_uri": "https://localhost:8080/"
        },
        "outputId": "9eaccb8a-87f8-432b-b2aa-82f6f6bc2528"
      },
      "execution_count": 7,
      "outputs": [
        {
          "output_type": "execute_result",
          "data": {
            "text/plain": [
              "2000"
            ]
          },
          "metadata": {},
          "execution_count": 7
        }
      ]
    },
    {
      "cell_type": "code",
      "source": [
        "import numpy as np\n",
        "\n",
        "top10 = np.argsort(-LR_clf.coef_[0])[:10]\n",
        "top10"
      ],
      "metadata": {
        "id": "Qacdr0MlwZ5y",
        "colab": {
          "base_uri": "https://localhost:8080/"
        },
        "outputId": "b782b62e-d0e1-43db-a058-482631c9d538"
      },
      "execution_count": 8,
      "outputs": [
        {
          "output_type": "execute_result",
          "data": {
            "text/plain": [
              "array([ 214, 1486,  281,  216,  913,  914,  498,  215, 1153, 1424])"
            ]
          },
          "metadata": {},
          "execution_count": 8
        }
      ]
    },
    {
      "cell_type": "markdown",
      "source": [
        "### top10_features 함수 정의\n",
        "* 텍스트 분류 모델이 **각 카테고리에 가장 영향을 많이 미치는 상위 10개의 특성(feature)**을 출력"
      ],
      "metadata": {
        "id": "JWSBPTG0K1TB"
      }
    },
    {
      "cell_type": "code",
      "execution_count": 9,
      "metadata": {
        "id": "bThLkVqgNjeV"
      },
      "outputs": [],
      "source": [
        "def top10_features(classifier, vectorizer, categories):\n",
        "    feature_names = np.asarray(vectorizer.get_feature_names_out())\n",
        "    for i, category in enumerate(categories):\n",
        "        # 역순으로 정렬하기 위해 계수에 음수를 취해서 정렬 후 앞에서부터 10개의 값을 반환\n",
        "        top10 = np.argsort(-classifier.coef_[i])[:10]\n",
        "        # 카테고리와 영향이 큰 특성 10개를 출력\n",
        "        print(\"%s: %s\" % (category, \", \".join(feature_names[top10])))"
      ]
    },
    {
      "cell_type": "code",
      "source": [
        "top10_features(LR_clf, tfidf, newsgroups_train.target_names)"
      ],
      "metadata": {
        "id": "8scVq-8DP9cR",
        "colab": {
          "base_uri": "https://localhost:8080/"
        },
        "outputId": "6dbcead1-79b0-4f88-e296-7479c98901f1"
      },
      "execution_count": 10,
      "outputs": [
        {
          "output_type": "stream",
          "name": "stdout",
          "text": [
            "alt.atheism: atheism, religion, bobby, atheists, islam, islamic, deletion, atheist, motto, punishment\n",
            "comp.graphics: graphics, image, file, computer, 3d, files, hi, looking, points, code\n",
            "sci.space: space, nasa, orbit, launch, moon, spacecraft, shuttle, earth, lunar, flight\n",
            "talk.religion.misc: christian, christians, jesus, god, fbi, objective, order, his, he, blood\n"
          ]
        }
      ]
    },
    {
      "cell_type": "markdown",
      "metadata": {
        "id": "4mbx79htNjeW"
      },
      "source": [
        "### 라쏘 회귀분석(lasso regression)을 이용한 특성 선택(feature selection)\n",
        "\n",
        "1. http://scikit-learn.org/stable/modules/generated/sklearn.linear_model.Lasso.html"
      ]
    },
    {
      "cell_type": "code",
      "execution_count": 11,
      "metadata": {
        "id": "PjRfXXc4NjeW",
        "colab": {
          "base_uri": "https://localhost:8080/"
        },
        "outputId": "a7f8f784-4028-4e7e-c714-4fd3b66d5adb"
      },
      "outputs": [
        {
          "output_type": "stream",
          "name": "stdout",
          "text": [
            "#Train set score: 0.819\n",
            "#Test set score: 0.724\n"
          ]
        }
      ],
      "source": [
        "lasso_clf = LogisticRegression(penalty='l1', solver='liblinear', C=1) # Lasso는 동일한 LogisticRegression을 사용하면서 매개변수로 지정\n",
        "lasso_clf.fit(X_train_tfidf, y_train) # train data로 학습\n",
        "\n",
        "print('#Train set score: {:.3f}'.format(lasso_clf.score(X_train_tfidf, y_train)))\n",
        "print('#Test set score: {:.3f}'.format(lasso_clf.score(X_test_tfidf, y_test)))"
      ]
    },
    {
      "cell_type": "code",
      "source": [
        "# 계수(coefficient) 중에서 0이 아닌 것들의 개수를 출력\n",
        "print('#Used features count: {}'.format(np.sum(lasso_clf.coef_ != 0)), 'out of', X_train_tfidf.shape[1])"
      ],
      "metadata": {
        "id": "gJHaGKj226yB",
        "colab": {
          "base_uri": "https://localhost:8080/"
        },
        "outputId": "2fd82b4e-434d-4399-c2a4-9b87e3ee3df2"
      },
      "execution_count": 12,
      "outputs": [
        {
          "output_type": "stream",
          "name": "stdout",
          "text": [
            "#Used features count: 437 out of 2000\n"
          ]
        }
      ]
    },
    {
      "cell_type": "code",
      "execution_count": 13,
      "metadata": {
        "id": "H7-bnHZ1NjeW",
        "colab": {
          "base_uri": "https://localhost:8080/"
        },
        "outputId": "f7c9fa2a-2028-4f99-9592-eaa61f86d6d6"
      },
      "outputs": [
        {
          "output_type": "stream",
          "name": "stdout",
          "text": [
            "alt.atheism: bobby, atheism, atheists, islam, religion, islamic, motto, atheist, satan, vice\n",
            "comp.graphics: graphics, image, 3d, file, computer, hi, video, files, looking, sphere\n",
            "sci.space: space, orbit, launch, nasa, spacecraft, flight, moon, dc, shuttle, solar\n",
            "talk.religion.misc: fbi, christian, christians, christ, order, jesus, children, objective, context, blood\n"
          ]
        }
      ],
      "source": [
        "top10_features(lasso_clf, tfidf, newsgroups_train.target_names)"
      ]
    },
    {
      "cell_type": "markdown",
      "metadata": {
        "id": "KWON6CHQNjeV"
      },
      "source": [
        "### 릿지 회귀(ridge regression)\n"
      ]
    },
    {
      "cell_type": "code",
      "execution_count": 14,
      "metadata": {
        "id": "SLWgyuRqNjeV",
        "colab": {
          "base_uri": "https://localhost:8080/"
        },
        "outputId": "12b2e648-2f5c-4423-e1c4-149558b5f8be"
      },
      "outputs": [
        {
          "output_type": "stream",
          "name": "stdout",
          "text": [
            "Train set score: 0.960\n",
            "Test set score: 0.735\n"
          ]
        }
      ],
      "source": [
        "from sklearn.linear_model import RidgeClassifier\n",
        "\n",
        "ridge_clf = RidgeClassifier() # 릿지 분류기 선언\n",
        "ridge_clf.fit(X_train_tfidf, y_train) # train data로 학습\n",
        "\n",
        "print('Train set score: {:.3f}'.format(ridge_clf.score(X_train_tfidf, y_train)))\n",
        "print('Test set score: {:.3f}'.format(ridge_clf.score(X_test_tfidf, y_test)))"
      ]
    },
    {
      "cell_type": "code",
      "source": [
        "top10_features(ridge_clf, tfidf, newsgroups_train.target_names)"
      ],
      "metadata": {
        "id": "rHl6xdgmQAgu",
        "colab": {
          "base_uri": "https://localhost:8080/"
        },
        "outputId": "28f80e2d-bfa2-4f84-ed8d-47f48fde8187"
      },
      "execution_count": 15,
      "outputs": [
        {
          "output_type": "stream",
          "name": "stdout",
          "text": [
            "alt.atheism: bobby, religion, atheists, atheism, motto, punishment, satan, deletion, islamic, liar\n",
            "comp.graphics: graphics, computer, 3d, file, 42, hi, image, using, screen, looking\n",
            "sci.space: space, orbit, spacecraft, sci, moon, funding, nasa, 23, engineering, nick\n",
            "talk.religion.misc: christian, blood, christians, fbi, order, objective, hudson, children, abortion, dead\n"
          ]
        }
      ]
    },
    {
      "cell_type": "code",
      "source": [
        "# alpha 값을 0.1로 할 경우\n",
        "ridge_clf = RidgeClassifier(alpha=0.1) # 릿지 분류기 선언\n",
        "ridge_clf.fit(X_train_tfidf, y_train) # 학습\n",
        "\n",
        "print('Train set score: {:.3f}'.format(ridge_clf.score(X_train_tfidf, y_train)))\n",
        "print('Test set score: {:.3f}'.format(ridge_clf.score(X_test_tfidf, y_test)))"
      ],
      "metadata": {
        "id": "WAv-96cS0rll",
        "colab": {
          "base_uri": "https://localhost:8080/"
        },
        "outputId": "e033c1d9-7ea1-4a28-d519-71b63ac2bfbe"
      },
      "execution_count": 16,
      "outputs": [
        {
          "output_type": "stream",
          "name": "stdout",
          "text": [
            "Train set score: 0.977\n",
            "Test set score: 0.673\n"
          ]
        }
      ]
    },
    {
      "cell_type": "markdown",
      "source": [
        "scikit-learn 라이브러리의 train_test_split 함수를 사용하여, 데이터를 학습용(train)과 검증용(validation) 데이터로 나누는 작업 수행"
      ],
      "metadata": {
        "id": "ACLfvajdVNB-"
      }
    },
    {
      "cell_type": "code",
      "execution_count": 17,
      "metadata": {
        "id": "UJKVUo4hNjeW"
      },
      "outputs": [],
      "source": [
        "from sklearn.model_selection import train_test_split\n",
        "\n",
        "# 8:2의 비율로 나누기\n",
        "X_train_ridge, X_val_ridge, y_train_ridge, y_val_ridge = train_test_split(X_train_tfidf, y_train, test_size=0.2, random_state=42)"
      ]
    },
    {
      "cell_type": "markdown",
      "source": [
        "alpha 값을 0.1부터 10까지 0.1씩 증가시키며, 가장 적절한 alpha 값 찾기\n",
        "* 가장 적절한 alpha 값? 검증 데이터(validation)에 대해서 가장 좋은 성능을 보이는 alpha 값"
      ],
      "metadata": {
        "id": "-EPKGuyOY5aL"
      }
    },
    {
      "cell_type": "code",
      "source": [
        "max_score = 0\n",
        "max_alpha = 0\n",
        "for alpha in np.arange(0.1, 10, 0.1): # alpha를 0.1부터 10까지 0.1씩 증가\n",
        "    ridge_clf = RidgeClassifier(alpha=alpha) # 릿지 분류기 선언\n",
        "    ridge_clf.fit(X_train_ridge, y_train_ridge) # 학습\n",
        "    score = ridge_clf.score(X_val_ridge, y_val_ridge) # 검정 데이터셋에 대해 정확도를 측정\n",
        "    if score > max_score: # 정확도가 이전의 정확도 최대값보다 크면 최대값을 변경한다.\n",
        "        max_score = score\n",
        "        max_alpha = alpha\n",
        "print('Max alpha {:.3f} at max validation score {:.3f}'.format(max_alpha, max_score))"
      ],
      "metadata": {
        "id": "kPLwP9AB0OvO",
        "colab": {
          "base_uri": "https://localhost:8080/"
        },
        "outputId": "8b5d4dc4-4dc6-467e-9e5c-697c124b27c7"
      },
      "execution_count": 18,
      "outputs": [
        {
          "output_type": "stream",
          "name": "stdout",
          "text": [
            "Max alpha 1.600 at max validation score 0.826\n"
          ]
        }
      ]
    },
    {
      "cell_type": "markdown",
      "source": [
        "검증 데이터에 대해, 0.826의 성능을 보이는 alpha=1.6이 가장 적절한 값으로 나옴"
      ],
      "metadata": {
        "id": "NHPcWowgZF9g"
      }
    },
    {
      "cell_type": "code",
      "execution_count": 19,
      "metadata": {
        "id": "DxGtcCjZNjeW",
        "colab": {
          "base_uri": "https://localhost:8080/"
        },
        "outputId": "b1389bd3-fc91-4380-fe5a-0e7a08fb99c2"
      },
      "outputs": [
        {
          "output_type": "stream",
          "name": "stdout",
          "text": [
            "Train set score: 0.947\n",
            "Test set score: 0.739\n"
          ]
        }
      ],
      "source": [
        "# 릿지 분류기 선언\n",
        "ridge_clf = RidgeClassifier(alpha=1.6)\n",
        "ridge_clf.fit(X_train_tfidf, y_train) # 학습\n",
        "\n",
        "print('Train set score: {:.3f}'.format(ridge_clf.score(X_train_tfidf, y_train)))\n",
        "print('Test set score: {:.3f}'.format(ridge_clf.score(X_test_tfidf, y_test)))"
      ]
    },
    {
      "cell_type": "code",
      "execution_count": 20,
      "metadata": {
        "id": "TEtc3MAqNjeW",
        "colab": {
          "base_uri": "https://localhost:8080/"
        },
        "outputId": "04c5140a-d512-47ba-b5d1-92ef349495d6"
      },
      "outputs": [
        {
          "output_type": "stream",
          "name": "stdout",
          "text": [
            "alt.atheism: bobby, religion, atheism, atheists, motto, punishment, islam, deletion, islamic, satan\n",
            "comp.graphics: graphics, computer, 3d, file, image, hi, 42, using, screen, looking\n",
            "sci.space: space, orbit, nasa, spacecraft, moon, sci, launch, flight, funding, idea\n",
            "talk.religion.misc: christian, christians, fbi, blood, order, jesus, objective, children, christ, hudson\n"
          ]
        }
      ],
      "source": [
        "top10_features(ridge_clf, tfidf, newsgroups_train.target_names)"
      ]
    },
    {
      "cell_type": "markdown",
      "metadata": {
        "id": "rBbZEcGqNjeW"
      },
      "source": [
        "## 5. 결정트리 등을 이용한 기타 문서 분류 방법\n",
        "\n",
        "1. https://scikit-learn.org/stable/modules/generated/sklearn.tree.DecisionTreeClassifier.html\n",
        "2. https://scikit-learn.org/stable/modules/generated/sklearn.ensemble.RandomForestClassifier.html\n",
        "3. https://scikit-learn.org/stable/modules/generated/sklearn.ensemble.GradientBoostingClassifier.html"
      ]
    },
    {
      "cell_type": "code",
      "source": [
        "# DecisionTreeClassifier\n",
        "from sklearn.tree import DecisionTreeClassifier\n",
        "\n",
        "tree = DecisionTreeClassifier(random_state=7)\n",
        "tree.fit(X_train_tfidf, y_train)\n",
        "\n",
        "print('#Decision Tree train set score: {:.3f}'.format(tree.score(X_train_tfidf, y_train)))\n",
        "print('#Decision Tree test set score: {:.3f}'.format(tree.score(X_test_tfidf, y_test)))"
      ],
      "metadata": {
        "id": "l0PPLd-33IOH",
        "colab": {
          "base_uri": "https://localhost:8080/"
        },
        "outputId": "4977258f-a304-4c91-e150-bede17667608"
      },
      "execution_count": 21,
      "outputs": [
        {
          "output_type": "stream",
          "name": "stdout",
          "text": [
            "#Decision Tree train set score: 0.977\n",
            "#Decision Tree test set score: 0.536\n"
          ]
        }
      ]
    },
    {
      "cell_type": "code",
      "source": [
        "# RandomForestClassifier\n",
        "from sklearn.ensemble import RandomForestClassifier\n",
        "\n",
        "forest = RandomForestClassifier(random_state=7)\n",
        "forest.fit(X_train_tfidf, y_train)\n",
        "print('#Random Forest train set score: {:.3f}'.format(forest.score(X_train_tfidf, y_train)))\n",
        "print('#Random Forest test set score: {:.3f}'.format(forest.score(X_test_tfidf, y_test)))"
      ],
      "metadata": {
        "id": "soR3r5oO3IXz",
        "colab": {
          "base_uri": "https://localhost:8080/"
        },
        "outputId": "cc3d39fe-f402-4e88-8897-c89b718549f6"
      },
      "execution_count": 22,
      "outputs": [
        {
          "output_type": "stream",
          "name": "stdout",
          "text": [
            "#Random Forest train set score: 0.977\n",
            "#Random Forest test set score: 0.685\n"
          ]
        }
      ]
    },
    {
      "cell_type": "code",
      "source": [
        "# GradientBoostingClassifier\n",
        "from sklearn.ensemble import GradientBoostingClassifier\n",
        "\n",
        "gb = GradientBoostingClassifier(random_state=7)\n",
        "gb.fit(X_train_tfidf, y_train)\n",
        "print('#Gradient Boosting train set score: {:.3f}'.format(gb.score(X_train_tfidf, y_train)))\n",
        "print('#Gradient Boosting test set score: {:.3f}'.format(gb.score(X_test_tfidf, y_test)))"
      ],
      "metadata": {
        "id": "pHjmesE33IgA",
        "colab": {
          "base_uri": "https://localhost:8080/"
        },
        "outputId": "c4e93b58-4114-4d2a-d89d-7a282c6acd58"
      },
      "execution_count": 23,
      "outputs": [
        {
          "output_type": "stream",
          "name": "stdout",
          "text": [
            "#Gradient Boosting train set score: 0.933\n",
            "#Gradient Boosting test set score: 0.695\n"
          ]
        }
      ]
    },
    {
      "cell_type": "code",
      "source": [
        "gb.feature_importances_"
      ],
      "metadata": {
        "id": "1Ova1v4b4h4G",
        "colab": {
          "base_uri": "https://localhost:8080/"
        },
        "outputId": "8fbf9f71-0479-4439-a687-1c29ef6a4c9f"
      },
      "execution_count": 24,
      "outputs": [
        {
          "output_type": "execute_result",
          "data": {
            "text/plain": [
              "array([0.        , 0.        , 0.00018793, ..., 0.00321606, 0.        ,\n",
              "       0.        ])"
            ]
          },
          "metadata": {},
          "execution_count": 24
        }
      ]
    },
    {
      "cell_type": "code",
      "source": [
        "sorted(gb.feature_importances_, reverse=True)[:40]"
      ],
      "metadata": {
        "id": "csxbwzuu42Xk",
        "colab": {
          "base_uri": "https://localhost:8080/"
        },
        "outputId": "6514287c-5bb7-4d57-d4fd-6a07a81266da"
      },
      "execution_count": 25,
      "outputs": [
        {
          "output_type": "execute_result",
          "data": {
            "text/plain": [
              "[0.12606815556503395,\n",
              " 0.07955738535484685,\n",
              " 0.023540357925013154,\n",
              " 0.02306185042035626,\n",
              " 0.020555812402388306,\n",
              " 0.020063273938036058,\n",
              " 0.018092916558127174,\n",
              " 0.01770949154089047,\n",
              " 0.016857094927865728,\n",
              " 0.015308260768876486,\n",
              " 0.015023452519852189,\n",
              " 0.013797145686816005,\n",
              " 0.010426583770790024,\n",
              " 0.010376173054679774,\n",
              " 0.010225361352506715,\n",
              " 0.010061136447910918,\n",
              " 0.00973361829291745,\n",
              " 0.0096630393064523,\n",
              " 0.009402038359825497,\n",
              " 0.008981046753380314,\n",
              " 0.008827368636033596,\n",
              " 0.007819020701620829,\n",
              " 0.007809482123037147,\n",
              " 0.007597096131104975,\n",
              " 0.007260184843430255,\n",
              " 0.00725511899882258,\n",
              " 0.007074189152295386,\n",
              " 0.006899060277543801,\n",
              " 0.006698870635101266,\n",
              " 0.006529364772733111,\n",
              " 0.006245749237205096,\n",
              " 0.005513872126424431,\n",
              " 0.004918770389689076,\n",
              " 0.004803787605613806,\n",
              " 0.00476794021326829,\n",
              " 0.004624503816321027,\n",
              " 0.004608372640219639,\n",
              " 0.004606426911938473,\n",
              " 0.004415620817426229,\n",
              " 0.004334578233902472]"
            ]
          },
          "metadata": {},
          "execution_count": 25
        }
      ]
    },
    {
      "cell_type": "code",
      "execution_count": 26,
      "metadata": {
        "id": "YDsqOmRMNjeW",
        "colab": {
          "base_uri": "https://localhost:8080/"
        },
        "outputId": "05e57212-8114-4f5e-b931-44e162a941e9"
      },
      "outputs": [
        {
          "output_type": "stream",
          "name": "stdout",
          "text": [
            "space: 0.126, graphics: 0.080, atheism: 0.024, thanks: 0.023, file: 0.021, orbit: 0.020, jesus: 0.018, god: 0.018, hi: 0.017, nasa: 0.015, image: 0.015, files: 0.014, christ: 0.010, moon: 0.010, bobby: 0.010, launch: 0.010, looking: 0.010, christian: 0.010, atheists: 0.009, christians: 0.009, fbi: 0.009, 3d: 0.008, you: 0.008, not: 0.008, religion: 0.007, islamic: 0.007, spacecraft: 0.007, flight: 0.007, computer: 0.007, islam: 0.007, ftp: 0.006, color: 0.006, software: 0.005, atheist: 0.005, card: 0.005, people: 0.005, koresh: 0.005, his: 0.005, kent: 0.004, sphere: 0.004, "
          ]
        }
      ],
      "source": [
        "# 분류에 크게 기여한 top40 단어들을 반환\n",
        "sorted_feature_importances = sorted(zip(tfidf.get_feature_names_out(), gb.feature_importances_), key=lambda x: x[1], reverse=True)\n",
        "for feature, value in sorted_feature_importances[:40]:\n",
        "    print('%s: %.3f' % (feature, value), end=', ')"
      ]
    },
    {
      "cell_type": "markdown",
      "source": [
        "# **[[실습 4-1-1]]**\n",
        "## 지난 시간(3-2)과 이번 시간(4-1)에 배운 분류기들의 train/test score를 비교해 보시오.\n",
        "* 코드 실행 결과로 얻은 score 결과를 복사/붙여넣기 혹은 직접 입력\n",
        "* 비교를 통해 어떤 분류기의 성능이 가장 좋은지 평가해 보시오.\n"
      ],
      "metadata": {
        "id": "z4DUvLFMWH6Q"
      }
    },
    {
      "cell_type": "markdown",
      "source": [
        "# (해당 셀을 더블 클릭하여 수정)\n",
        "1. 나이브 베이즈 분류기(Naive Bayse Classifier) - Train set score: 0.824, Test set score: 0.732\n",
        "2. 로지스틱 회귀분석(LogisticRegression) - Train set score: 0.929, Test set score: 0.735\n",
        "3. 라쏘 회귀분석(lasso regression) - Train set score: 0.819, Test set score: 0.724\n",
        "4. 릿지 회귀(ridge regression) - Train set score: 0.960, Test set score: 0.735\n",
        "5. 결정 트리(Decision Tree) - train set score: 0.977, test set score: 0.536\n",
        "6. 랜덤 포레스트(Random Forest) - train set score: 0.977, test set score: 0.685\n",
        "7. 그래디언트 부스팅(Gradient Boosting) - train set score: 0.933, test set score: 0.695"
      ],
      "metadata": {
        "id": "mlbn8v_U2HU-"
      }
    },
    {
      "cell_type": "markdown",
      "source": [
        "(내용 작성) 어떤 분류기의 성능이 가장 좋은가?"
      ],
      "metadata": {
        "id": "zRy_XYa6ZkL-"
      }
    },
    {
      "cell_type": "markdown",
      "source": [
        "로지스틱 회귀와 릿지 회귀가 테스트 세트에서 동일한 정확도를 보이지만, 로지스틱 회귀는 훈련 세트와 테스트 세트 간의 성능 차이가 크지 않아 과적합에 대한 우려가 적습니다. 따라서 로지스틱 회귀의 성능이 가장 좋다고 생각합니다."
      ],
      "metadata": {
        "id": "xsPtYEqRZmy3"
      }
    },
    {
      "cell_type": "markdown",
      "source": [
        "# **[[실습 4-1-2]]**\n",
        "# coef_의 결과와 feature_importances_ 결과 비교를 통해, 회귀분석 방법과 트리 기반의 분류 방식의 차이점 알아보기\n",
        "* coef_의 결과(여러 분류기 중 1개 이상)와 feature_importances_ 결과(여러 분류기 중 1개 이상) 복사/붙여넣기\n",
        "* 비교를 통해 어떤 차이점이 있는 것 같은지 분석해보시오."
      ],
      "metadata": {
        "id": "cKjT2ubs8sm8"
      }
    },
    {
      "cell_type": "markdown",
      "source": [
        "# (해당 셀을 더블 클릭하여 수정)\n",
        "\n",
        "* coef_의 결과 : 로지스틱 회귀분석(LogisticRegression)\n",
        "\n",
        "array([[-0.29017615,  0.1789959 , -0.19273631, ..., -0.40956462,\n",
        "        -0.08686455, -0.11764324],\n",
        "       [ 0.42032388, -0.15751563,  0.52745772, ..., -0.13140309,\n",
        "        -0.05589633,  0.27076447],\n",
        "       [ 0.10923797,  0.10729818, -0.17887524, ..., -0.2709849 ,\n",
        "         0.10903719, -0.06967447],\n",
        "       [-0.2393857 , -0.12877846, -0.15584617, ...,  0.81195261,\n",
        "         0.03372369, -0.08344677]])\n",
        "\n",
        "* feature_importances_ 결과 : 그래디언트 부스팅(Gradient Boosting)\n",
        "\n",
        "array([0.        , 0.        , 0.00018793, ..., 0.00321606, 0.        ,\n",
        "       0.        ])"
      ],
      "metadata": {
        "id": "pRnLO8sm8suK"
      }
    },
    {
      "cell_type": "markdown",
      "source": [
        "(내용 작성) 회귀분석 방법과 트리 기반의 분류 방식은 어떤 차이점이 있는 것 같은가?"
      ],
      "metadata": {
        "id": "HwpQuH8c90Mo"
      }
    },
    {
      "cell_type": "markdown",
      "source": [
        "회귀분석 방법은 선형 모델이며, coef_는 각 문서에 대해서 각각의 단어들이 기여한 정도를 반환하는데, 이때 가중치의 부호와 크기를 통해 해당 단어가 분류 결과에 긍정적 또는 부정적 영향을 미치는지 명확히 파악할 수 있고 각 단어가 예측에 어떻게 기여하는지 해석이 용이합니다.\n",
        "\n",
        "트리 기반의 분류 방식은 비선형 모델이며, feature_importances_는 각각의 단어들이 분류에 기여한 정도를 반환하는데, 트리 기반의 분류 방식은 비선형 모델이며, feature_importances_는 각각의 단어들이 분류에 기여한 정도를 반환하는데, 이 값은 모델이 의사결정 과정에서 해당 특성을 얼마나 자주 사용했는지를 나타내지만 각 특성이 결과에 미치는 영향을 직접적으로 설명할 수 없기 때문에 해석이 상대적으로 어렵습니다."
      ],
      "metadata": {
        "id": "bOAn2xxOadYu"
      }
    },
    {
      "cell_type": "markdown",
      "source": [
        "---"
      ],
      "metadata": {
        "id": "3LsZSUgqZroX"
      }
    },
    {
      "cell_type": "markdown",
      "source": [
        "# [파일] -> [다운로드] -> [.ipynb 다운로드]\n",
        "\n"
      ],
      "metadata": {
        "id": "4qITHUlV166U"
      }
    },
    {
      "cell_type": "markdown",
      "source": [
        "# 4-1. 수업 내용 끝\n",
        "---"
      ],
      "metadata": {
        "id": "XGkYrR3lZtX3"
      }
    }
  ],
  "metadata": {
    "kernelspec": {
      "display_name": "Python 3 (ipykernel)",
      "language": "python",
      "name": "python3"
    },
    "language_info": {
      "codemirror_mode": {
        "name": "ipython",
        "version": 3
      },
      "file_extension": ".py",
      "mimetype": "text/x-python",
      "name": "python",
      "nbconvert_exporter": "python",
      "pygments_lexer": "ipython3",
      "version": "3.8.0"
    },
    "toc": {
      "base_numbering": 1,
      "nav_menu": {},
      "number_sections": true,
      "sideBar": true,
      "skip_h1_title": false,
      "title_cell": "Table of Contents",
      "title_sidebar": "Contents",
      "toc_cell": true,
      "toc_position": {
        "height": "calc(100% - 180px)",
        "left": "10px",
        "top": "150px",
        "width": "165px"
      },
      "toc_section_display": true,
      "toc_window_display": true
    },
    "varInspector": {
      "cols": {
        "lenName": 16,
        "lenType": 16,
        "lenVar": 40
      },
      "kernels_config": {
        "python": {
          "delete_cmd_postfix": "",
          "delete_cmd_prefix": "del ",
          "library": "var_list.py",
          "varRefreshCmd": "print(var_dic_list())"
        },
        "r": {
          "delete_cmd_postfix": ") ",
          "delete_cmd_prefix": "rm(",
          "library": "var_list.r",
          "varRefreshCmd": "cat(var_dic_list()) "
        }
      },
      "types_to_exclude": [
        "module",
        "function",
        "builtin_function_or_method",
        "instance",
        "_Feature"
      ],
      "window_display": false
    },
    "colab": {
      "provenance": []
    }
  },
  "nbformat": 4,
  "nbformat_minor": 0
}